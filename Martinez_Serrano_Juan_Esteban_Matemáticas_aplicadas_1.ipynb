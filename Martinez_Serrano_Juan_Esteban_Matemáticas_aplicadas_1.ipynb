{
  "nbformat": 4,
  "nbformat_minor": 0,
  "metadata": {
    "colab": {
      "provenance": [],
      "authorship_tag": "ABX9TyPm4dFmfz7+OaOOwRSutCnf",
      "include_colab_link": true
    },
    "kernelspec": {
      "name": "python3",
      "display_name": "Python 3"
    },
    "language_info": {
      "name": "python"
    }
  },
  "cells": [
    {
      "cell_type": "markdown",
      "metadata": {
        "id": "view-in-github",
        "colab_type": "text"
      },
      "source": [
        "<a href=\"https://colab.research.google.com/github/JuanEMartinez512/Matem-ticas-aplicadas-1/blob/main/Martinez_Serrano_Juan_Esteban_Matem%C3%A1ticas_aplicadas_1.ipynb\" target=\"_parent\"><img src=\"https://colab.research.google.com/assets/colab-badge.svg\" alt=\"Open In Colab\"/></a>"
      ]
    },
    {
      "cell_type": "markdown",
      "source": [
        "1.Teorema de Pythagoras    $+b^2=c^2$  Pythagoras,530BC\n",
        "\n",
        "2.Logaritmos $log xy= log x +log y$ Jhon Napier, 1610\n",
        "\n",
        "3.Calculus $\\frac{df}{dt}= \\displaystyle \\lim_{h \\to 0}= \\frac{f(t+h)-f(t)}{h} $ Newton, 1668\n",
        "\n",
        "4.Law of Gravity $F=G \\frac{m_1m_2}{r^2}$ Newton, 1687\n",
        "\n",
        "5.The square Root of Minus One $i^2=-1$ Euler, 1750\n",
        "\n",
        "6.Euler's Formula for Plyhedra $V-E+F=2$ eULER,1751\n",
        "\n",
        "7.Normal Distribution $\\Phi(x)=\\frac{1}{\\sqrt{2\\pi p}}c$\n",
        "\n",
        "8. Wave Equation $\\frac{\\partial^2u}{\\partial t^2}= c^2 \\frac{\\partial^2u}{\\partial x^2}  $ J.d' Almbert, 1746\n",
        "\n",
        "9.Fourier transform $f(w)=\\int_{\\infty}^{\\infty} f(x)e^{-2\\pi i x w} dx $ J. Fourier, 1822\n",
        "\n",
        "10.Navier Stokes Equation $p (\\frac{\\partial v}{\\partial t} + v \\cdot \\bigtriangledown v)=-\\bigtriangledown p+\\bigtriangledown \\cdot T+f$ J.C C. Navier, G.strokes, 1845\n",
        "\n",
        "11.Maxwell's Equations $\\bigtriangledown \\cdot E=o $ $\\bigtriangledown \\cdot H=o$\n",
        "$\\bigtriangledown \\times E=$\n",
        "$\\bigtriangledown × E =\\dfrac{1}{c} \\dfrac{\\partial H}{\\partial t}$\n",
        "\n",
        "12.Second Law of Thermodynamics $dS \\geq 0$ l. Boltzman, 1874\n",
        "\n",
        "13.Relativity $E=mc^2$ Einstein, 1905\n",
        "\n",
        "14.Schrodinger's Equation $ih \\frac{\\partial }{\\partial t}\\Psi=H\\Psi$ E. Schrodinger, 1927\n",
        "\n",
        "15.Information Theory $H=-\\sum p(x) log p(x)$ C. Shannon, 1949\n",
        "\n",
        "16.chaos Theory $x_t+1=kx_1(1-x_t)$\n",
        "\n",
        "17.Black scholes equation $\\frac {1}{2}a^2S^2 \\frac{\\partial^2v}{\\partial S^2}+rS\\frac {\\partial V}{\\partial S}+\\frac {\\partial V}{\\partial t}- rV=0$ F.Black , M.scholes, 1990\n"
      ],
      "metadata": {
        "id": "BfGOOhWE1j-U"
      }
    },
    {
      "cell_type": "code",
      "source": [],
      "metadata": {
        "id": "7Jz-6hy-4d9H"
      },
      "execution_count": null,
      "outputs": []
    }
  ]
}